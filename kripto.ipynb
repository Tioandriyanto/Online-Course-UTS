{
  "nbformat": 4,
  "nbformat_minor": 0,
  "metadata": {
    "colab": {
      "provenance": [],
      "authorship_tag": "ABX9TyNDuSME0BQNajsNa8xJvE6L",
      "include_colab_link": true
    },
    "kernelspec": {
      "name": "python3",
      "display_name": "Python 3"
    },
    "language_info": {
      "name": "python"
    }
  },
  "cells": [
    {
      "cell_type": "markdown",
      "metadata": {
        "id": "view-in-github",
        "colab_type": "text"
      },
      "source": [
        "<a href=\"https://colab.research.google.com/github/Tioandriyanto/Online-Course-UTS/blob/main/kripto.ipynb\" target=\"_parent\"><img src=\"https://colab.research.google.com/assets/colab-badge.svg\" alt=\"Open In Colab\"/></a>"
      ]
    },
    {
      "cell_type": "code",
      "execution_count": null,
      "metadata": {
        "colab": {
          "base_uri": "https://localhost:8080/"
        },
        "id": "vw_sEkaB2Vgu",
        "outputId": "eb6af1f7-b960-480f-c3cc-2bf2f667bfae"
      },
      "outputs": [
        {
          "output_type": "stream",
          "name": "stdout",
          "text": [
            "Requirement already satisfied: pycryptodome in /usr/local/lib/python3.11/dist-packages (3.22.0)\n",
            "Ciphertext (hex): 56F1D5C852AF813FFDF2E174492922F8\n"
          ]
        }
      ],
      "source": [
        "!pip install pycryptodome\n",
        "from Crypto.Cipher import DES\n",
        "from Crypto.Util.Padding import pad\n",
        "\n",
        "# Kunci (8-byte)\n",
        "key = bytes.fromhex(\"133457799BBCDFF1\")\n",
        "\n",
        "# Plaintext 8-byte (harus dipad agar kelipatan 8 byte)\n",
        "plaintext = b\"COMPUTER\"  # sudah 8 byte\n",
        "\n",
        "# DES dengan mode ECB\n",
        "cipher = DES.new(key, DES.MODE_ECB)\n",
        "ciphertext = cipher.encrypt(pad(plaintext, 8))  # padding bila diperlukan\n",
        "\n",
        "print(\"Ciphertext (hex):\", ciphertext.hex().upper())\n",
        "\n"
      ]
    },
    {
      "cell_type": "markdown",
      "source": [],
      "metadata": {
        "id": "ihdKTHTH3mAT"
      }
    },
    {
      "cell_type": "code",
      "source": [
        "from Crypto.Cipher import DES\n",
        "from Crypto.Util.Padding import pad\n",
        "\n",
        "# ===== INPUT =====\n",
        "# Plaintext harus 8 byte atau dipad menjadi kelipatan 8\n",
        "plaintext = \"COMPUTER\"  # 8 karakter (1 karakter = 1 byte)\n",
        "key_hex = \"133457799BBCDFF1\"  # Kunci dalam bentuk heksadesimal (8 byte)\n",
        "\n",
        "# ===== PROSES KONVERSI =====\n",
        "key = bytes.fromhex(key_hex)  # Konversi kunci dari hex ke bytes\n",
        "data = plaintext.encode(\"utf-8\")  # Konversi plaintext string ke byte\n",
        "\n",
        "# Padding data agar kelipatan 8\n",
        "padded_data = pad(data, 8)\n",
        "\n",
        "# ===== ENKRIPSI DES =====\n",
        "cipher = DES.new(key, DES.MODE_ECB)  # Inisialisasi objek DES dengan mode ECB\n",
        "ciphertext = cipher.encrypt(padded_data)\n",
        "\n",
        "# ===== OUTPUT =====\n",
        "print(\"Plaintext     :\", plaintext)\n",
        "print(\"Kunci (hex)   :\", key_hex)\n",
        "print(\"Ciphertext    :\", ciphertext.hex().upper())\n"
      ],
      "metadata": {
        "colab": {
          "base_uri": "https://localhost:8080/"
        },
        "id": "srsp1W3R3mo9",
        "outputId": "8f0c3fb3-a264-44a8-a58f-cfad5bde6b7b"
      },
      "execution_count": null,
      "outputs": [
        {
          "output_type": "stream",
          "name": "stdout",
          "text": [
            "Plaintext     : COMPUTER\n",
            "Kunci (hex)   : 133457799BBCDFF1\n",
            "Ciphertext    : 56F1D5C852AF813FFDF2E174492922F8\n"
          ]
        }
      ]
    }
  ]
}